{
 "cells": [
  {
   "cell_type": "markdown",
   "metadata": {},
   "source": [
    "# Task1:数组\n",
    "\n"
   ]
  },
  {
   "cell_type": "markdown",
   "metadata": {},
   "source": [
    "##  习题部分\n",
    "### 1.利用动态数组解决数据存放问题\n",
    "编写一段代码，要求输入一个整数N，用动态数组A来存放2~N之间所有5或7的倍数，输出该数组。"
   ]
  },
  {
   "cell_type": "code",
   "execution_count": 3,
   "metadata": {},
   "outputs": [
    {
     "name": "stdout",
     "output_type": "stream",
     "text": [
      "请输入一个整数:100\n"
     ]
    },
    {
     "data": {
      "text/plain": [
       "[5,\n",
       " 7,\n",
       " 10,\n",
       " 14,\n",
       " 15,\n",
       " 20,\n",
       " 21,\n",
       " 25,\n",
       " 28,\n",
       " 30,\n",
       " 35,\n",
       " 40,\n",
       " 42,\n",
       " 45,\n",
       " 49,\n",
       " 50,\n",
       " 55,\n",
       " 56,\n",
       " 60,\n",
       " 63,\n",
       " 65,\n",
       " 70,\n",
       " 75,\n",
       " 77,\n",
       " 80,\n",
       " 84,\n",
       " 85,\n",
       " 90,\n",
       " 91,\n",
       " 95,\n",
       " 98]"
      ]
     },
     "execution_count": 3,
     "metadata": {},
     "output_type": "execute_result"
    }
   ],
   "source": [
    "A=[]\n",
    "N=int(input(\"请输入一个整数:\"))\n",
    "for i in range(2,N):\n",
    "    if i%5==0 or i % 7==0:\n",
    "        A.append(i)\n",
    "A"
   ]
  },
  {
   "cell_type": "markdown",
   "metadata": {},
   "source": [
    "### 2. 托普利茨矩阵问题\n",
    "\n",
    "如果一个矩阵的每一方向由左上到右下的对角线上具有相同元素，那么这个矩阵是托普利茨矩阵。\n",
    "\n",
    "给定一个M x N的矩阵，当且仅当它是托普利茨矩阵时返回True。"
   ]
  },
  {
   "cell_type": "code",
   "execution_count": 22,
   "metadata": {},
   "outputs": [],
   "source": [
    "def ToeplitzMatrix(matrix):\n",
    "    for i in range(len(matrix)-1):\n",
    "        for j in range( len(matrix[0])-1) :\n",
    "            if matrix[i][j]!=matrix[i+1][j+1]:\n",
    "                return False\n",
    "    return True\n"
   ]
  },
  {
   "cell_type": "markdown",
   "metadata": {},
   "source": [
    "上面是一个个的判断，下面的代码是一行行的判断"
   ]
  },
  {
   "cell_type": "code",
   "execution_count": 24,
   "metadata": {},
   "outputs": [],
   "source": [
    "def isToeplitzMatrix(matrix):\n",
    "    for i in range(len(matrix)-1):\n",
    "        \n",
    "        if matrix[i][0:-1]!=matrix[i+1][1:]:\n",
    "                return False\n",
    "        return True\n",
    "            \n",
    "            "
   ]
  },
  {
   "cell_type": "code",
   "execution_count": 25,
   "metadata": {},
   "outputs": [
    {
     "data": {
      "text/plain": [
       "False"
      ]
     },
     "execution_count": 25,
     "metadata": {},
     "output_type": "execute_result"
    }
   ],
   "source": [
    "matrix = [\n",
    "[1,1,3,4],\n",
    "[5,1,2,3],\n",
    "[9,5,1,2]\n",
    "]\n",
    "isToeplitzMatrix(matrix)"
   ]
  },
  {
   "cell_type": "code",
   "execution_count": 26,
   "metadata": {},
   "outputs": [
    {
     "data": {
      "text/plain": [
       "False"
      ]
     },
     "execution_count": 26,
     "metadata": {},
     "output_type": "execute_result"
    }
   ],
   "source": [
    "ToeplitzMatrix(matrix)"
   ]
  },
  {
   "cell_type": "markdown",
   "metadata": {},
   "source": [
    "### 3.三数之和\n",
    "给定一个包含 n 个整数的数组nums，判断nums中是否存在三个元素a，b，c，使得a + b + c = 0？找出所有满足条件且不重复的三元组。\n",
    "\n",
    "注意：答案中不可以包含重复的三元组。"
   ]
  },
  {
   "cell_type": "code",
   "execution_count": 29,
   "metadata": {},
   "outputs": [],
   "source": [
    "def threenum(nums):\n",
    "    data = []\n",
    "    nums.sort()\n",
    "    print(nums)\n",
    "    for i in range(len(nums)-2):\n",
    "        if(nums[i]>0):\n",
    "            break\n",
    "        if(i>=1 and nums[i]==nums[i-1]):\n",
    "            continue\n",
    "        m = i + 1\n",
    "        n = len(nums) - 1\n",
    "        while(m < n):\n",
    "            total = nums[m] + nums[n] + nums[i]\n",
    "            if(total==0 and [nums[i],nums[m],nums[n]] not in data):\n",
    "                data.append([nums[i],nums[m],nums[n]])\n",
    "                m = m + 1\n",
    "                n = n - 1\n",
    "            elif(total > 0):\n",
    "                while(nums[n-1]==nums[n] and n-1 > m):\n",
    "                    n = n - 1\n",
    "                n = n - 1\n",
    "            else:\n",
    "                print(i,m,n)\n",
    "                while(nums[m+1]==nums[m] and m+1 < n):\n",
    "                    m = m + 1\n",
    "                m = m + 1\n",
    "    return data\n"
   ]
  },
  {
   "cell_type": "code",
   "execution_count": 30,
   "metadata": {},
   "outputs": [
    {
     "name": "stdout",
     "output_type": "stream",
     "text": [
      "[-4, -1, -1, 0, 1, 2]\n",
      "0 1 5\n",
      "0 3 5\n",
      "0 4 5\n"
     ]
    },
    {
     "data": {
      "text/plain": [
       "[[-1, -1, 2], [-1, 0, 1]]"
      ]
     },
     "execution_count": 30,
     "metadata": {},
     "output_type": "execute_result"
    }
   ],
   "source": [
    "nums=[-1, 0, 1, 2, -1, -4]\n",
    "threenum(nums)"
   ]
  },
  {
   "cell_type": "code",
   "execution_count": null,
   "metadata": {},
   "outputs": [],
   "source": []
  }
 ],
 "metadata": {
  "kernelspec": {
   "display_name": "Python 3",
   "language": "python",
   "name": "python3"
  },
  "language_info": {
   "codemirror_mode": {
    "name": "ipython",
    "version": 3
   },
   "file_extension": ".py",
   "mimetype": "text/x-python",
   "name": "python",
   "nbconvert_exporter": "python",
   "pygments_lexer": "ipython3",
   "version": "3.7.3"
  }
 },
 "nbformat": 4,
 "nbformat_minor": 2
}
