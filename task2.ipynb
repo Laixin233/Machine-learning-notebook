{
 "cells": [
  {
   "cell_type": "markdown",
   "metadata": {},
   "source": [
    "# 练习\n",
    "## 1.合并两个有序链表\n",
    "将两个有序链表合并为一个新的有序链表并返回。新链表是通过拼接给定的两个链表的所有节点组成的。 \n",
    "\n",
    "示例：\n",
    "\n",
    "输入：1->2->4, 1->3->4\n",
    "输出：1->1->2->3->4->4"
   ]
  },
  {
   "cell_type": "code",
   "execution_count": 1,
   "metadata": {},
   "outputs": [],
   "source": [
    "class ListNode(object):\n",
    "    def __init__(self, x):\n",
    "        self.val = x\n",
    "        self.next = None\n"
   ]
  },
  {
   "cell_type": "code",
   "execution_count": 2,
   "metadata": {},
   "outputs": [],
   "source": [
    "\n",
    "class Solution(object):\n",
    "    def mergeTwoLists(self, l1, l2):\n",
    "        prehead = ListNode(-1)\n",
    "        prev = prehead\n",
    "        while l1 and l2:\n",
    "            if l1.val <= l2.val:\n",
    "               prev.next = l1\n",
    "               l1 = l1.next\n",
    "            else:\n",
    "               prev.next = l2\n",
    "               l2 = l2.next\n",
    "            prev = prev.next\n",
    "\n",
    "        prev.next = l1 if l1 is not None else l2\n",
    "        return prehead.next"
   ]
  },
  {
   "cell_type": "code",
   "execution_count": 15,
   "metadata": {},
   "outputs": [],
   "source": [
    "a1 = ListNode(1)\n",
    "a2 = ListNode(2)\n",
    "a3 = ListNode(4)\n",
    "a1.next=a2\n",
    "a2.next=a3\n",
    "b1 = ListNode(1)\n",
    "b2 = ListNode(3)\n",
    "b3 = ListNode(4)\n",
    "b1.next=b2\n",
    "b2.next=b3"
   ]
  },
  {
   "cell_type": "code",
   "execution_count": 16,
   "metadata": {},
   "outputs": [
    {
     "name": "stdout",
     "output_type": "stream",
     "text": [
      "1\n",
      "1\n",
      "2\n",
      "3\n",
      "4\n",
      "4\n"
     ]
    }
   ],
   "source": [
    "sol=Solution()\n",
    "result=sol.mergeTwoLists(a1,b1)\n",
    "temp = result\n",
    "while temp:\n",
    "    print(temp.val)\n",
    "    temp=temp.next"
   ]
  },
  {
   "cell_type": "markdown",
   "metadata": {},
   "source": [
    "## 2.删除链表的倒数第N个节点\n",
    "\n",
    "给定一个链表，删除链表的倒数第 n 个节点，并且返回链表的头结点。\n",
    "\n",
    "给定一个链表: 1->2->3->4->5, 和 n = 2.\n",
    "\n",
    "当删除了倒数第二个节点后，链表变为 1->2->3->5."
   ]
  },
  {
   "cell_type": "code",
   "execution_count": 17,
   "metadata": {},
   "outputs": [],
   "source": [
    "def removeNthFromEnd(head, n):\n",
    "        if not head or n<=0: \n",
    "            return head\n",
    "        p = ListNode(-1) \n",
    "        p.next = head \n",
    "        a = p\n",
    "        k = 0\n",
    "        while a.next: \n",
    "            a = a.next\n",
    "            k = k+1\n",
    "        if k<n: \n",
    "            return head\n",
    "        b = p\n",
    "        num = k-n \n",
    "        while num > 0:\n",
    "            b = b.next\n",
    "            num = num-1\n",
    "        b.next = b.next.next \n",
    "        return p.next \n"
   ]
  },
  {
   "cell_type": "code",
   "execution_count": 18,
   "metadata": {},
   "outputs": [
    {
     "name": "stdout",
     "output_type": "stream",
     "text": [
      "1\n",
      "1\n",
      "2\n",
      "3\n",
      "4\n"
     ]
    }
   ],
   "source": [
    "result1=removeNthFromEnd(result,2)\n",
    "temp = result1\n",
    "while temp:\n",
    "    print(temp.val)\n",
    "    temp=temp.next"
   ]
  },
  {
   "cell_type": "markdown",
   "metadata": {},
   "source": [
    "## 3.旋转链表\n",
    "\n",
    "给定一个链表，旋转链表，将链表每个节点向右移动k个位置，其中k是非负数。\n",
    "\n",
    "示例:\n",
    "输入: 1->2->3->4->5->NULL, k = 2\n",
    "输出: 4->5->1->2->3->NULL\n",
    "\n",
    "解释:\n",
    "向右旋转 1 步: 5->1->2->3->4->NULL\n",
    "向右旋转 2 步: 4->5->1->2->3->NULL"
   ]
  },
  {
   "cell_type": "code",
   "execution_count": 10,
   "metadata": {},
   "outputs": [],
   "source": [
    "def rotateRight(head, k):\n",
    "        if not head:\n",
    "            return None\n",
    "        if not head.next:\n",
    "            return head\n",
    "        old_tail = head\n",
    "        n = 1\n",
    "        while old_tail.next: \n",
    "            old_tail = old_tail.next\n",
    "            n = n+1\n",
    "        old_tail.next = head\n",
    "\n",
    "        new_tail = head\n",
    "        m = n - k % n -1\n",
    "        while m:\n",
    "            new_tail = new_tail.next \n",
    "            m = m-1\n",
    "        new_head = new_tail.next \n",
    "        new_tail.next = None \n",
    "        return new_head"
   ]
  },
  {
   "cell_type": "code",
   "execution_count": 19,
   "metadata": {},
   "outputs": [
    {
     "name": "stdout",
     "output_type": "stream",
     "text": [
      "3\n",
      "4\n",
      "1\n",
      "1\n",
      "2\n"
     ]
    }
   ],
   "source": [
    "result2=rotateRight(result1,2)\n",
    "temp = result2\n",
    "while temp:\n",
    "    print(temp.val)\n",
    "    temp=temp.next"
   ]
  },
  {
   "cell_type": "code",
   "execution_count": null,
   "metadata": {},
   "outputs": [],
   "source": []
  }
 ],
 "metadata": {
  "kernelspec": {
   "display_name": "Python 3",
   "language": "python",
   "name": "python3"
  },
  "language_info": {
   "codemirror_mode": {
    "name": "ipython",
    "version": 3
   },
   "file_extension": ".py",
   "mimetype": "text/x-python",
   "name": "python",
   "nbconvert_exporter": "python",
   "pygments_lexer": "ipython3",
   "version": "3.7.3"
  }
 },
 "nbformat": 4,
 "nbformat_minor": 2
}
